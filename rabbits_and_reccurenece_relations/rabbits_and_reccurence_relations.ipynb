{
 "cells": [
  {
   "cell_type": "code",
   "execution_count": 3,
   "metadata": {},
   "outputs": [
    {
     "name": "stdout",
     "output_type": "stream",
     "text": [
      "22906492245\n"
     ]
    }
   ],
   "source": [
    "def rabbit_pairs(n, k):\n",
    "    if n == 1 or n == 2:\n",
    "        return 1\n",
    "    \n",
    "    # Initialize the first two months\n",
    "    rabbits = [1, 1]\n",
    "\n",
    "    # Calculate the number of rabbits for each subsequent month\n",
    "    for i in range(2, n):\n",
    "        rabbits.append(rabbits[-1] + k * rabbits[-2])\n",
    "\n",
    "    return rabbits[-1]\n",
    "\n",
    "# Sample dataset\n",
    "n = 36\n",
    "k = 2\n",
    "\n",
    "# Output\n",
    "print(rabbit_pairs(n, k))"
   ]
  },
  {
   "cell_type": "code",
   "execution_count": null,
   "metadata": {},
   "outputs": [],
   "source": []
  }
 ],
 "metadata": {
  "kernelspec": {
   "display_name": "base",
   "language": "python",
   "name": "python3"
  },
  "language_info": {
   "codemirror_mode": {
    "name": "ipython",
    "version": 3
   },
   "file_extension": ".py",
   "mimetype": "text/x-python",
   "name": "python",
   "nbconvert_exporter": "python",
   "pygments_lexer": "ipython3",
   "version": "3.9.13"
  },
  "orig_nbformat": 4,
  "vscode": {
   "interpreter": {
    "hash": "e36c714e3b46c4cbe11620e19febcdd1d83e6725bf51012704ee242e7ff2a61e"
   }
  }
 },
 "nbformat": 4,
 "nbformat_minor": 2
}
