{
 "cells": [
  {
   "cell_type": "code",
   "execution_count": 7,
   "metadata": {},
   "outputs": [
    {
     "name": "stdout",
     "output_type": "stream",
     "text": [
      "213\n",
      "221\n",
      "236\n",
      "211\n"
     ]
    }
   ],
   "source": [
    "rosalind_dna = \"rosalind_dna.txt\"\n",
    "\n",
    "with open(rosalind_dna, 'r') as file:\n",
    "    file_contents = file.read()\n",
    "\n",
    "a_count = \"A\"\n",
    "c_count = \"C\"\n",
    "g_count = \"G\"\n",
    "t_count = \"T\"\n",
    "\n",
    "count_a = file_contents.count(a_count)\n",
    "count_c = file_contents.count(c_count)\n",
    "count_g = file_contents.count(g_count)\n",
    "count_t = file_contents.count(t_count)\n",
    "\n",
    "print(count_a)\n",
    "print(count_c)\n",
    "print(count_g)\n",
    "print(count_t)"
   ]
  },
  {
   "cell_type": "code",
   "execution_count": null,
   "metadata": {},
   "outputs": [],
   "source": []
  }
 ],
 "metadata": {
  "kernelspec": {
   "display_name": "base",
   "language": "python",
   "name": "python3"
  },
  "language_info": {
   "codemirror_mode": {
    "name": "ipython",
    "version": 3
   },
   "file_extension": ".py",
   "mimetype": "text/x-python",
   "name": "python",
   "nbconvert_exporter": "python",
   "pygments_lexer": "ipython3",
   "version": "3.9.13"
  },
  "orig_nbformat": 4
 },
 "nbformat": 4,
 "nbformat_minor": 2
}
